{
 "cells": [
  {
   "cell_type": "markdown",
   "metadata": {},
   "source": [
    "## Parsing HTML data to CSV\n",
    "### All the xml documents can be parsed using. \n",
    "    The Methods used to convert scraped Data to CSV:\n",
    "        a) fromstring : converts string representation of XML into tree of XML nodes \n",
    "        b) find: find function searches throught the xml tree and retrieves the node that match the specified tag"
   ]
  },
  {
   "cell_type": "code",
   "execution_count": 1,
   "metadata": {},
   "outputs": [],
   "source": [
    "# requests - Standard libary to make HTTP requests in Python\n",
    "import requests\n",
    "\n",
    "# using get method of url extract the response into url \n",
    "url = requests.get('https://en.wikipedia.org/wiki/List_of_countries_and_dependencies_by_population_density').text\n",
    "\n",
    "# Beautiful Soup is a Python library for pulling data out of HTML and XML files.\n",
    "# Link to its Documentation: https://www.crummy.com/software/BeautifulSoup/bs4/doc/\n",
    "from bs4 import BeautifulSoup\n",
    "soup = BeautifulSoup(url,'lxml')\n",
    "\n",
    "# To print the output with indentation\n",
    "#print(soup.prettify())\n",
    "\n",
    "# Find the tag table from the extracted HTML content and find w.r.t class name \n",
    "table = soup.find('table',{'class':'sortable wikitable'})"
   ]
  },
  {
   "cell_type": "code",
   "execution_count": 2,
   "metadata": {},
   "outputs": [],
   "source": [
    "# Extracting the headers from table\n",
    "# The first line of the table is the Headers \n",
    "\n",
    "\n",
    "headers = [th.text for th in table.select(\"tr th\")]\n",
    "# Converting to CSV file\n",
    "import csv\n",
    "with open(\"out.csv\", \"w\") as f:\n",
    "    wr = csv.writer(f)\n",
    "    wr.writerow(headers)\n",
    "    wr.writerows([[td.text for td in row.find_all(\"td\")] \n",
    "                  for row in table.select(\"tr\")])"
   ]
  },
  {
   "cell_type": "code",
   "execution_count": null,
   "metadata": {},
   "outputs": [],
   "source": []
  }
 ],
 "metadata": {
  "kernelspec": {
   "display_name": "Python 3",
   "language": "python",
   "name": "python3"
  },
  "language_info": {
   "codemirror_mode": {
    "name": "ipython",
    "version": 3
   },
   "file_extension": ".py",
   "mimetype": "text/x-python",
   "name": "python",
   "nbconvert_exporter": "python",
   "pygments_lexer": "ipython3",
   "version": "3.6.5"
  }
 },
 "nbformat": 4,
 "nbformat_minor": 2
}
